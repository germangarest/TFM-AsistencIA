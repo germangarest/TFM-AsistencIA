{
 "cells": [
  {
   "cell_type": "markdown",
   "metadata": {},
   "source": [
    "# Análisis y Entrenamiento del Detector de Peleas\n",
    "\n",
    "Este notebook analiza y prepara los datos para el entrenamiento del modelo de detección de peleas. Incluye:\n",
    "1. Exploración del dataset\n",
    "2. Visualización de imágenes y distribuciones\n",
    "3. Preparación de datos\n",
    "4. Entrenamiento y evaluación del modelo"
   ]
  },
  {
   "cell_type": "code",
   "execution_count": null,
   "metadata": {},
   "source": [
    "import tensorflow as tf\n",
    "import tensorflow.keras.backend as K\n",
    "from tensorflow.keras.preprocessing.image import ImageDataGenerator\n",
    "import numpy as np\n",
    "import os\n",
    "import matplotlib.pyplot as plt\n",
    "import seaborn as sns\n",
    "from PIL import Image\n",
    "import pandas as pd\n",
    "from datetime import datetime\n",
    "\n",
    "# Configurar estilo de las gráficas\n",
    "plt.style.use('seaborn')\n",
    "sns.set_palette('husl')"
   ]
  },
  {
   "cell_type": "markdown",
   "metadata": {},
   "source": [
    "## 1. Exploración del Dataset\n",
    "\n",
    "Analizaremos la estructura y distribución de nuestros datos de entrenamiento."
   ]
  },
  {
   "cell_type": "code",
   "execution_count": null,
   "metadata": {},
   "source": [
    "def analyze_dataset(data_dir='data'):\n",
    "    classes = ['NormalVideos', 'Fighting']\n",
    "    stats = {}\n",
    "    \n",
    "    for class_name in classes:\n",
    "        class_dir = os.path.join(data_dir, class_name)\n",
    "        if os.path.exists(class_dir):\n",
    "            # Contar imágenes\n",
    "            images = [f for f in os.listdir(class_dir) if f.endswith(('.jpg', '.jpeg', '.png'))]\n",
    "            stats[class_name] = {\n",
    "                'count': len(images),\n",
    "                'sample_images': images[:5] if images else []\n",
    "            }\n",
    "            \n",
    "            # Analizar tamaños de imagen\n",
    "            if images:\n",
    "                sample_img = Image.open(os.path.join(class_dir, images[0]))\n",
    "                stats[class_name]['image_size'] = sample_img.size\n",
    "    \n",
    "    return stats\n",
    "\n",
    "dataset_stats = analyze_dataset()\n",
    "\n",
    "# Mostrar estadísticas\n",
    "for class_name, stats in dataset_stats.items():\n",
    "    print(f\"\\nClase: {class_name}\")\n",
    "    print(f\"Número de imágenes: {stats['count']}\")\n",
    "    if 'image_size' in stats:\n",
    "        print(f\"Tamaño de imagen: {stats['image_size']}\")"
   ]
  },
  {
   "cell_type": "markdown",
   "metadata": {},
   "source": [
    "### Visualización de la Distribución de Clases"
   ]
  },
  {
   "cell_type": "code",
   "execution_count": null,
   "metadata": {},
   "source": [
    "# Crear gráfico de distribución de clases\n",
    "class_counts = [stats['count'] for stats in dataset_stats.values()]\n",
    "class_names = list(dataset_stats.keys())\n",
    "\n",
    "plt.figure(figsize=(10, 6))\n",
    "sns.barplot(x=class_names, y=class_counts)\n",
    "plt.title('Distribución de Clases en el Dataset')\n",
    "plt.xlabel('Clase')\n",
    "plt.ylabel('Número de Imágenes')\n",
    "plt.xticks(rotation=45)\n",
    "plt.show()\n",
    "\n",
    "# Calcular y mostrar el ratio de desbalance\n",
    "imbalance_ratio = max(class_counts) / min(class_counts)\n",
    "print(f\"\\nRatio de desbalance: {imbalance_ratio:.2f}:1\")"
   ]
  },
  {
   "cell_type": "markdown",
   "metadata": {},
   "source": [
    "### Visualización de Imágenes de Muestra"
   ]
  },
  {
   "cell_type": "code",
   "execution_count": null,
   "metadata": {},
   "source": [
    "def plot_sample_images(data_dir='data', n_samples=5):\n",
    "    classes = ['NormalVideos', 'Fighting']\n",
    "    fig, axes = plt.subplots(2, n_samples, figsize=(15, 6))\n",
    "    \n",
    "    for i, class_name in enumerate(classes):\n",
    "        class_dir = os.path.join(data_dir, class_name)\n",
    "        images = [f for f in os.listdir(class_dir) if f.endswith(('.jpg', '.jpeg', '.png'))][:n_samples]\n",
    "        \n",
    "        for j, img_name in enumerate(images):\n",
    "            img_path = os.path.join(class_dir, img_name)\n",
    "            img = Image.open(img_path)\n",
    "            axes[i, j].imshow(img)\n",
    "            axes[i, j].axis('off')\n",
    "            if j == 0:\n",
    "                axes[i, j].set_title(f'{class_name}\\n{img.size}')\n",
    "            else:\n",
    "                axes[i, j].set_title(f'{img.size}')\n",
    "    \n",
    "    plt.tight_layout()\n",
    "    plt.show()\n",
    "\n",
    "plot_sample_images()"
   ]
  },
  {
   "cell_type": "markdown",
   "metadata": {},
   "source": [
    "## 2. Preparación de Datos\n",
    "\n",
    "Configuramos los generadores de datos con aumentación para el entrenamiento."
   ]
  },
  {
   "cell_type": "code",
   "execution_count": null,
   "metadata": {},
   "source": [
    "from train_fight import Config, create_data_generators\n",
    "\n",
    "# Mostrar configuración de aumentación de datos\n",
    "print(\"Configuración de aumentación de datos:\")\n",
    "print(f\"Rotación: ±{Config.ROTATION_RANGE}°\")\n",
    "print(f\"Desplazamiento: ±{Config.SHIFT_RANGE * 100}%\")\n",
    "print(f\"Zoom: ±{Config.ZOOM_RANGE * 100}%\")\n",
    "print(f\"Rango de brillo: {Config.BRIGHTNESS_RANGE}\")\n",
    "\n",
    "# Crear generadores\n",
    "train_generator, validation_generator, class_weights = create_data_generators()\n",
    "\n",
    "print(\"\\nPesos de clases para balance:\")\n",
    "for class_name, weight in zip(['NormalVideos', 'Fighting'], class_weights.values()):\n",
    "    print(f\"{class_name}: {weight:.2f}\")"
   ]
  },
  {
   "cell_type": "markdown",
   "metadata": {},
   "source": [
    "### Visualización de Aumentación de Datos"
   ]
  },
  {
   "cell_type": "code",
   "execution_count": null,
   "metadata": {},
   "source": [
    "def plot_augmented_samples(generator, n_samples=5):\n",
    "    batch = next(generator)\n",
    "    images, labels = batch\n",
    "    \n",
    "    fig, axes = plt.subplots(2, n_samples, figsize=(15, 6))\n",
    "    class_names = ['Normal', 'Pelea']\n",
    "    \n",
    "    for i in range(2):\n",
    "        class_images = images[labels == i][:n_samples]\n",
    "        for j, img in enumerate(class_images):\n",
    "            axes[i, j].imshow(img)\n",
    "            axes[i, j].axis('off')\n",
    "            if j == 0:\n",
    "                axes[i, j].set_title(f'{class_names[i]}\\n{img.shape}')\n",
    "            else:\n",
    "                axes[i, j].set_title(f'{img.shape}')\n",
    "    \n",
    "    plt.suptitle('Ejemplos de Imágenes Aumentadas')\n",
    "    plt.tight_layout()\n",
    "    plt.show()\n",
    "\n",
    "plot_augmented_samples(train_generator)"
   ]
  },
  {
   "cell_type": "markdown",
   "metadata": {},
   "source": [
    "## 3. Entrenamiento y Evaluación del Modelo"
   ]
  },
  {
   "cell_type": "code",
   "execution_count": null,
   "metadata": {},
   "source": [
    "from train_fight import create_model, Config\n",
    "\n",
    "# Crear y entrenar modelo\n",
    "model = create_model()\n",
    "print(\"\\nResumen del modelo:\")\n",
    "model.summary()\n",
    "\n",
    "# Configurar callbacks\n",
    "callbacks = [\n",
    "    tf.keras.callbacks.EarlyStopping(\n",
    "        monitor='val_accuracy',\n",
    "        patience=5,\n",
    "        restore_best_weights=True,\n",
    "        verbose=1\n",
    "    ),\n",
    "    tf.keras.callbacks.ReduceLROnPlateau(\n",
    "        monitor='val_accuracy',\n",
    "        factor=0.5,\n",
    "        patience=3,\n",
    "        min_lr=Config.MIN_LR,\n",
    "        verbose=1\n",
    "    )\n",
    "]\n",
    "\n",
    "# Entrenar modelo\n",
    "history = model.fit(\n",
    "    train_generator,\n",
    "    validation_data=validation_generator,\n",
    "    epochs=Config.EPOCHS,\n",
    "    callbacks=callbacks,\n",
    "    class_weight=class_weights\n",
    ")"
   ]
  },
  {
   "cell_type": "markdown",
   "metadata": {},
   "source": [
    "### Visualización de Métricas de Entrenamiento"
   ]
  },
  {
   "cell_type": "code",
   "execution_count": null,
   "metadata": {},
   "source": [
    "def plot_training_history(history):\n",
    "    metrics = ['accuracy', 'precision', 'recall']\n",
    "    fig, axes = plt.subplots(1, 3, figsize=(18, 5))\n",
    "    \n",
    "    for i, metric in enumerate(metrics):\n",
    "        axes[i].plot(history.history[metric], label='Train')\n",
    "        axes[i].plot(history.history[f'val_{metric}'], label='Validation')\n",
    "        axes[i].set_title(f'{metric.capitalize()} durante el Entrenamiento')\n",
    "        axes[i].set_xlabel('Época')\n",
    "        axes[i].set_ylabel(metric.capitalize())\n",
    "        axes[i].legend()\n",
    "    \n",
    "    plt.tight_layout()\n",
    "    plt.show()\n",
    "\n",
    "plot_training_history(history)"
   ]
  },
  {
   "cell_type": "markdown",
   "metadata": {},
   "source": [
    "### Evaluación Final del Modelo"
   ]
  },
  {
   "cell_type": "code",
   "execution_count": null,
   "metadata": {},
   "source": [
    "from sklearn.metrics import classification_report, confusion_matrix\n",
    "\n",
    "# Evaluar modelo en conjunto de validación\n",
    "y_pred = model.predict(validation_generator)\n",
    "y_pred_classes = (y_pred > 0.5).astype(int)\n",
    "y_true = validation_generator.classes\n",
    "\n",
    "# Mostrar matriz de confusión\n",
    "plt.figure(figsize=(8, 6))\n",
    "sns.heatmap(\n",
    "    confusion_matrix(y_true, y_pred_classes),\n",
    "    annot=True,\n",
    "    fmt='d',\n",
    "    cmap='Blues',\n",
    "    xticklabels=['Normal', 'Pelea'],\n",
    "    yticklabels=['Normal', 'Pelea']\n",
    ")\n",
    "plt.title('Matriz de Confusión')\n",
    "plt.xlabel('Predicción')\n",
    "plt.ylabel('Real')\n",
    "plt.show()\n",
    "\n",
    "# Mostrar reporte de clasificación\n",
    "print(\"\\nReporte de Clasificación:\")\n",
    "print(classification_report(y_true, y_pred_classes, target_names=['Normal', 'Pelea']))"
   ]
  }
 ],
 "metadata": {
  "kernelspec": {
   "display_name": "Python 3",
   "language": "python",
   "name": "python3"
  },
  "language_info": {
   "codemirror_mode": {
    "name": "ipython",
    "version": 3
   },
   "file_extension": ".py",
   "mimetype": "text/x-python",
   "name": "python",
   "nbconvert_exporter": "python",
   "pygments_lexer": "ipython3",
   "version": "3.8.0"
  }
 },
 "nbformat": 4,
 "nbformat_minor": 4
}
